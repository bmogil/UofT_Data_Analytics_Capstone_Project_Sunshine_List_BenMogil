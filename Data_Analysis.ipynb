{
 "cells": [
  {
   "cell_type": "code",
   "execution_count": 1,
   "id": "44652e88",
   "metadata": {},
   "outputs": [],
   "source": [
    "#Import NumPy and Pandas Dependencies\n",
    "import pandas as pd\n",
    "import numpy as np\n",
    "from config import db_password # for access to PGAdmin4 postgresql\n",
    "\n",
    "#import Matplotlib Dependencies\n",
    "from matplotlib import style # for plotting\n",
    "style.use('fivethirtyeight')\n",
    "import matplotlib.pyplot as plt\n",
    "\n",
    "import psycopg2\n",
    "\n",
    "from sqlalchemy import create_engine\n",
    "from getpass import getpass\n"
   ]
  },
  {
   "cell_type": "code",
   "execution_count": 7,
   "id": "0879efb2",
   "metadata": {},
   "outputs": [
    {
     "name": "stdout",
     "output_type": "stream",
     "text": [
      "Enter in Password········\n"
     ]
    }
   ],
   "source": [
    "# db_password = 'db_password'\n",
    "\n",
    "db_password = getpass ('Enter in Password')"
   ]
  },
  {
   "cell_type": "code",
   "execution_count": 8,
   "id": "98fa6856",
   "metadata": {},
   "outputs": [],
   "source": [
    "#Define the database credentials\n",
    "credentials = {\n",
    "'host':'localhost',\n",
    "'database':'Final_Project_SunshineList',\n",
    "'user':'postgres',\n",
    "'password' : db_password\n",
    "}"
   ]
  },
  {
   "cell_type": "code",
   "execution_count": 9,
   "id": "08700056",
   "metadata": {},
   "outputs": [],
   "source": [
    "def connect(credentials):    \n",
    "    \"\"\" Connect to the PostgreSQL database server \"\"\"    \n",
    "    conn = None\n",
    "    try:        \n",
    "        # connect to the PostgreSQL server        \n",
    "        print('Connecting to the PostgreSQL database...')        \n",
    "        conn = psycopg2.connect(**credentials)    \n",
    "    except (Exception, psycopg2.DatabaseError) as error:\n",
    "        print(error)\n",
    "        sys.exit(1)\n",
    "    print(\"Connection successful\")\n",
    "    return conn"
   ]
  },
  {
   "cell_type": "code",
   "execution_count": 10,
   "id": "f3cf436c",
   "metadata": {},
   "outputs": [],
   "source": [
    "def postgresql_to_dataframe(conn, select_query, column_names):\n",
    "    \"\"\"\n",
    "    Tranform a SELECT query into a pandas dataframe    \n",
    "    \"\"\"\n",
    "    cursor = conn.cursor()\n",
    "    try:\n",
    "        cursor.execute(select_query)\n",
    "    except (Exception, psycopg2.DatabaseError) as error:\n",
    "        print(\"Error: %s\" % error)\n",
    "        cursor.close()\n",
    "        return 1\n",
    "    \n",
    "    # Naturally we get a list of tupples\n",
    "    tupples = cursor.fetchall()\n",
    "    cursor.close()\n",
    "    \n",
    "    # We just need to turn it into a pandas dataframe\n",
    "    df = pd.DataFrame(tupples, columns=column_names)\n",
    "    return df"
   ]
  },
  {
   "cell_type": "code",
   "execution_count": 11,
   "id": "87df9fac",
   "metadata": {},
   "outputs": [
    {
     "name": "stdout",
     "output_type": "stream",
     "text": [
      "Connecting to the PostgreSQL database...\n",
      "Connection successful\n"
     ]
    },
    {
     "data": {
      "text/html": [
       "<div>\n",
       "<style scoped>\n",
       "    .dataframe tbody tr th:only-of-type {\n",
       "        vertical-align: middle;\n",
       "    }\n",
       "\n",
       "    .dataframe tbody tr th {\n",
       "        vertical-align: top;\n",
       "    }\n",
       "\n",
       "    .dataframe thead th {\n",
       "        text-align: right;\n",
       "    }\n",
       "</style>\n",
       "<table border=\"1\" class=\"dataframe\">\n",
       "  <thead>\n",
       "    <tr style=\"text-align: right;\">\n",
       "      <th></th>\n",
       "      <th>index</th>\n",
       "      <th>year</th>\n",
       "      <th>sector</th>\n",
       "      <th>city</th>\n",
       "      <th>employer</th>\n",
       "      <th>sunshine_job_title</th>\n",
       "      <th>job_title</th>\n",
       "      <th>last_first_name</th>\n",
       "      <th>last_name</th>\n",
       "      <th>first_name</th>\n",
       "      <th>gender</th>\n",
       "      <th>salary_paid</th>\n",
       "      <th>salary_bin</th>\n",
       "      <th>taxable_benefits</th>\n",
       "      <th>total_compensation</th>\n",
       "    </tr>\n",
       "  </thead>\n",
       "  <tbody>\n",
       "    <tr>\n",
       "      <th>0</th>\n",
       "      <td>1639004</td>\n",
       "      <td>2020</td>\n",
       "      <td>Schools</td>\n",
       "      <td>Renfrew</td>\n",
       "      <td>Renfrew County Catholic District School Board</td>\n",
       "      <td>Vice Principal</td>\n",
       "      <td>VP</td>\n",
       "      <td>Mulvihill_Chris</td>\n",
       "      <td>Mulvihill</td>\n",
       "      <td>Chris</td>\n",
       "      <td>M</td>\n",
       "      <td>113978</td>\n",
       "      <td>$110,000 to $129,999</td>\n",
       "      <td>82</td>\n",
       "      <td>114060</td>\n",
       "    </tr>\n",
       "    <tr>\n",
       "      <th>1</th>\n",
       "      <td>1639005</td>\n",
       "      <td>2020</td>\n",
       "      <td>Schools</td>\n",
       "      <td>Waterloo</td>\n",
       "      <td>Waterloo Region District School Board</td>\n",
       "      <td>Psychological Services Consultant</td>\n",
       "      <td>Consultant</td>\n",
       "      <td>Mulvihill_Lisa</td>\n",
       "      <td>Mulvihill</td>\n",
       "      <td>Lisa</td>\n",
       "      <td>F</td>\n",
       "      <td>110500</td>\n",
       "      <td>$110,000 to $129,999</td>\n",
       "      <td>82</td>\n",
       "      <td>110582</td>\n",
       "    </tr>\n",
       "    <tr>\n",
       "      <th>2</th>\n",
       "      <td>1639015</td>\n",
       "      <td>2020</td>\n",
       "      <td>Schools</td>\n",
       "      <td>Shelburne</td>\n",
       "      <td>Dufferin-Peel Catholic District School Board</td>\n",
       "      <td>Vice Principal</td>\n",
       "      <td>VP</td>\n",
       "      <td>Mundy_Laurie</td>\n",
       "      <td>Mundy</td>\n",
       "      <td>Laurie</td>\n",
       "      <td>F</td>\n",
       "      <td>113479</td>\n",
       "      <td>$110,000 to $129,999</td>\n",
       "      <td>264</td>\n",
       "      <td>113743</td>\n",
       "    </tr>\n",
       "    <tr>\n",
       "      <th>3</th>\n",
       "      <td>1639023</td>\n",
       "      <td>2020</td>\n",
       "      <td>Schools</td>\n",
       "      <td>Toronto</td>\n",
       "      <td>Toronto District School Board</td>\n",
       "      <td>Vice Principal Elementary</td>\n",
       "      <td>VP</td>\n",
       "      <td>Munro_Catherine</td>\n",
       "      <td>Munro</td>\n",
       "      <td>Catherine</td>\n",
       "      <td>F</td>\n",
       "      <td>115624</td>\n",
       "      <td>$110,000 to $129,999</td>\n",
       "      <td>0</td>\n",
       "      <td>115624</td>\n",
       "    </tr>\n",
       "    <tr>\n",
       "      <th>4</th>\n",
       "      <td>1639025</td>\n",
       "      <td>2020</td>\n",
       "      <td>Schools</td>\n",
       "      <td>Toronto</td>\n",
       "      <td>Toronto Catholic District School Board</td>\n",
       "      <td>Vice Principal – Elementary</td>\n",
       "      <td>VP</td>\n",
       "      <td>Munro_Deborah</td>\n",
       "      <td>Munro</td>\n",
       "      <td>Deborah</td>\n",
       "      <td>F</td>\n",
       "      <td>117548</td>\n",
       "      <td>$110,000 to $129,999</td>\n",
       "      <td>82</td>\n",
       "      <td>117630</td>\n",
       "    </tr>\n",
       "  </tbody>\n",
       "</table>\n",
       "</div>"
      ],
      "text/plain": [
       "     index  year   sector       city  \\\n",
       "0  1639004  2020  Schools    Renfrew   \n",
       "1  1639005  2020  Schools   Waterloo   \n",
       "2  1639015  2020  Schools  Shelburne   \n",
       "3  1639023  2020  Schools    Toronto   \n",
       "4  1639025  2020  Schools    Toronto   \n",
       "\n",
       "                                        employer  \\\n",
       "0  Renfrew County Catholic District School Board   \n",
       "1          Waterloo Region District School Board   \n",
       "2   Dufferin-Peel Catholic District School Board   \n",
       "3                  Toronto District School Board   \n",
       "4         Toronto Catholic District School Board   \n",
       "\n",
       "                  sunshine_job_title   job_title  last_first_name  last_name  \\\n",
       "0                     Vice Principal          VP  Mulvihill_Chris  Mulvihill   \n",
       "1  Psychological Services Consultant  Consultant   Mulvihill_Lisa  Mulvihill   \n",
       "2                     Vice Principal          VP     Mundy_Laurie      Mundy   \n",
       "3          Vice Principal Elementary          VP  Munro_Catherine      Munro   \n",
       "4        Vice Principal – Elementary          VP    Munro_Deborah      Munro   \n",
       "\n",
       "  first_name gender  salary_paid            salary_bin  taxable_benefits  \\\n",
       "0      Chris      M       113978  $110,000 to $129,999                82   \n",
       "1       Lisa      F       110500  $110,000 to $129,999                82   \n",
       "2     Laurie      F       113479  $110,000 to $129,999               264   \n",
       "3  Catherine      F       115624  $110,000 to $129,999                 0   \n",
       "4    Deborah      F       117548  $110,000 to $129,999                82   \n",
       "\n",
       "   total_compensation  \n",
       "0              114060  \n",
       "1              110582  \n",
       "2              113743  \n",
       "3              115624  \n",
       "4              117630  "
      ]
     },
     "execution_count": 11,
     "metadata": {},
     "output_type": "execute_result"
    }
   ],
   "source": [
    "#Connect to Database\n",
    "conn=connect(credentials)\n",
    "\n",
    "column_names=['index',\n",
    "              'year',\n",
    "              'sector',\n",
    "              'city',\n",
    "              'employer',\n",
    "              'sunshine_job_title',\n",
    "              'job_title',\n",
    "              'last_first_name',\n",
    "              'last_name',\n",
    "              'first_name',\n",
    "              'gender',\n",
    "              'salary_paid',\n",
    "              'salary_bin',\n",
    "              'taxable_benefits',\n",
    "              'total_compensation']\n",
    "\n",
    "#Execute the Select * query\n",
    "sunshine_df=postgresql_to_dataframe(conn,\"select * from sunshine_table\", column_names)\n",
    "sunshine_df.head()"
   ]
  },
  {
   "cell_type": "code",
   "execution_count": 12,
   "id": "176d5d79",
   "metadata": {},
   "outputs": [
    {
     "data": {
      "text/html": [
       "<div>\n",
       "<style scoped>\n",
       "    .dataframe tbody tr th:only-of-type {\n",
       "        vertical-align: middle;\n",
       "    }\n",
       "\n",
       "    .dataframe tbody tr th {\n",
       "        vertical-align: top;\n",
       "    }\n",
       "\n",
       "    .dataframe thead th {\n",
       "        text-align: right;\n",
       "    }\n",
       "</style>\n",
       "<table border=\"1\" class=\"dataframe\">\n",
       "  <thead>\n",
       "    <tr style=\"text-align: right;\">\n",
       "      <th></th>\n",
       "      <th>index</th>\n",
       "      <th>year</th>\n",
       "      <th>sector</th>\n",
       "      <th>city</th>\n",
       "      <th>employer</th>\n",
       "      <th>sunshine_job_title</th>\n",
       "      <th>job_title</th>\n",
       "      <th>last_first_name</th>\n",
       "      <th>last_name</th>\n",
       "      <th>first_name</th>\n",
       "      <th>gender</th>\n",
       "      <th>salary_paid</th>\n",
       "      <th>salary_bin</th>\n",
       "      <th>taxable_benefits</th>\n",
       "      <th>total_compensation</th>\n",
       "    </tr>\n",
       "  </thead>\n",
       "  <tbody>\n",
       "    <tr>\n",
       "      <th>0</th>\n",
       "      <td>1639004</td>\n",
       "      <td>2020</td>\n",
       "      <td>Schools</td>\n",
       "      <td>Renfrew</td>\n",
       "      <td>Renfrew County Catholic District School Board</td>\n",
       "      <td>Vice Principal</td>\n",
       "      <td>VP</td>\n",
       "      <td>Mulvihill_Chris</td>\n",
       "      <td>Mulvihill</td>\n",
       "      <td>Chris</td>\n",
       "      <td>M</td>\n",
       "      <td>113978</td>\n",
       "      <td>$110,000 to $129,999</td>\n",
       "      <td>82</td>\n",
       "      <td>114060</td>\n",
       "    </tr>\n",
       "    <tr>\n",
       "      <th>1</th>\n",
       "      <td>1639005</td>\n",
       "      <td>2020</td>\n",
       "      <td>Schools</td>\n",
       "      <td>Waterloo</td>\n",
       "      <td>Waterloo Region District School Board</td>\n",
       "      <td>Psychological Services Consultant</td>\n",
       "      <td>Consultant</td>\n",
       "      <td>Mulvihill_Lisa</td>\n",
       "      <td>Mulvihill</td>\n",
       "      <td>Lisa</td>\n",
       "      <td>F</td>\n",
       "      <td>110500</td>\n",
       "      <td>$110,000 to $129,999</td>\n",
       "      <td>82</td>\n",
       "      <td>110582</td>\n",
       "    </tr>\n",
       "    <tr>\n",
       "      <th>2</th>\n",
       "      <td>1639015</td>\n",
       "      <td>2020</td>\n",
       "      <td>Schools</td>\n",
       "      <td>Shelburne</td>\n",
       "      <td>Dufferin-Peel Catholic District School Board</td>\n",
       "      <td>Vice Principal</td>\n",
       "      <td>VP</td>\n",
       "      <td>Mundy_Laurie</td>\n",
       "      <td>Mundy</td>\n",
       "      <td>Laurie</td>\n",
       "      <td>F</td>\n",
       "      <td>113479</td>\n",
       "      <td>$110,000 to $129,999</td>\n",
       "      <td>264</td>\n",
       "      <td>113743</td>\n",
       "    </tr>\n",
       "    <tr>\n",
       "      <th>3</th>\n",
       "      <td>1639023</td>\n",
       "      <td>2020</td>\n",
       "      <td>Schools</td>\n",
       "      <td>Toronto</td>\n",
       "      <td>Toronto District School Board</td>\n",
       "      <td>Vice Principal Elementary</td>\n",
       "      <td>VP</td>\n",
       "      <td>Munro_Catherine</td>\n",
       "      <td>Munro</td>\n",
       "      <td>Catherine</td>\n",
       "      <td>F</td>\n",
       "      <td>115624</td>\n",
       "      <td>$110,000 to $129,999</td>\n",
       "      <td>0</td>\n",
       "      <td>115624</td>\n",
       "    </tr>\n",
       "    <tr>\n",
       "      <th>4</th>\n",
       "      <td>1639025</td>\n",
       "      <td>2020</td>\n",
       "      <td>Schools</td>\n",
       "      <td>Toronto</td>\n",
       "      <td>Toronto Catholic District School Board</td>\n",
       "      <td>Vice Principal – Elementary</td>\n",
       "      <td>VP</td>\n",
       "      <td>Munro_Deborah</td>\n",
       "      <td>Munro</td>\n",
       "      <td>Deborah</td>\n",
       "      <td>F</td>\n",
       "      <td>117548</td>\n",
       "      <td>$110,000 to $129,999</td>\n",
       "      <td>82</td>\n",
       "      <td>117630</td>\n",
       "    </tr>\n",
       "  </tbody>\n",
       "</table>\n",
       "</div>"
      ],
      "text/plain": [
       "     index  year   sector       city  \\\n",
       "0  1639004  2020  Schools    Renfrew   \n",
       "1  1639005  2020  Schools   Waterloo   \n",
       "2  1639015  2020  Schools  Shelburne   \n",
       "3  1639023  2020  Schools    Toronto   \n",
       "4  1639025  2020  Schools    Toronto   \n",
       "\n",
       "                                        employer  \\\n",
       "0  Renfrew County Catholic District School Board   \n",
       "1          Waterloo Region District School Board   \n",
       "2   Dufferin-Peel Catholic District School Board   \n",
       "3                  Toronto District School Board   \n",
       "4         Toronto Catholic District School Board   \n",
       "\n",
       "                  sunshine_job_title   job_title  last_first_name  last_name  \\\n",
       "0                     Vice Principal          VP  Mulvihill_Chris  Mulvihill   \n",
       "1  Psychological Services Consultant  Consultant   Mulvihill_Lisa  Mulvihill   \n",
       "2                     Vice Principal          VP     Mundy_Laurie      Mundy   \n",
       "3          Vice Principal Elementary          VP  Munro_Catherine      Munro   \n",
       "4        Vice Principal – Elementary          VP    Munro_Deborah      Munro   \n",
       "\n",
       "  first_name gender  salary_paid            salary_bin  taxable_benefits  \\\n",
       "0      Chris      M       113978  $110,000 to $129,999                82   \n",
       "1       Lisa      F       110500  $110,000 to $129,999                82   \n",
       "2     Laurie      F       113479  $110,000 to $129,999               264   \n",
       "3  Catherine      F       115624  $110,000 to $129,999                 0   \n",
       "4    Deborah      F       117548  $110,000 to $129,999                82   \n",
       "\n",
       "   total_compensation  \n",
       "0              114060  \n",
       "1              110582  \n",
       "2              113743  \n",
       "3              115624  \n",
       "4              117630  "
      ]
     },
     "execution_count": 12,
     "metadata": {},
     "output_type": "execute_result"
    }
   ],
   "source": [
    "year_2020_df=sunshine_df.loc[sunshine_df[\"year\"] == 2020]\n",
    "year_2020_df.head()\n"
   ]
  },
  {
   "cell_type": "code",
   "execution_count": 13,
   "id": "fb741686",
   "metadata": {},
   "outputs": [
    {
     "name": "stderr",
     "output_type": "stream",
     "text": [
      "C:\\Users\\Danielle Spring\\anaconda3\\envs\\PythonData\\lib\\site-packages\\ipykernel_launcher.py:1: SettingWithCopyWarning: \n",
      "A value is trying to be set on a copy of a slice from a DataFrame.\n",
      "Try using .loc[row_indexer,col_indexer] = value instead\n",
      "\n",
      "See the caveats in the documentation: https://pandas.pydata.org/pandas-docs/stable/user_guide/indexing.html#returning-a-view-versus-a-copy\n",
      "  \"\"\"Entry point for launching an IPython kernel.\n"
     ]
    },
    {
     "data": {
      "text/plain": [
       "count    205078.000000\n",
       "mean       1258.436041\n",
       "std         360.095382\n",
       "min        1000.000000\n",
       "25%        1046.280000\n",
       "50%        1138.555000\n",
       "75%        1323.907500\n",
       "max       12285.170000\n",
       "Name: salary_ranges, dtype: float64"
      ]
     },
     "execution_count": 13,
     "metadata": {},
     "output_type": "execute_result"
    }
   ],
   "source": [
    "year_2020_df[\"salary_ranges\"]=year_2020_df[\"salary_paid\"]/100\n",
    "# year_2020_df.describe()\n",
    "year_2020_df[\"salary_ranges\"].describe()"
   ]
  },
  {
   "cell_type": "markdown",
   "id": "994a4371",
   "metadata": {},
   "source": [
    "# # Questions We Would Like to Answer:"
   ]
  },
  {
   "cell_type": "code",
   "execution_count": 14,
   "id": "0b5ba99b",
   "metadata": {},
   "outputs": [],
   "source": [
    "# Given the data available, can we use 25 years of data to determine whether the Ontario Sunshine list is still relevant?\n",
    "\n",
    "# Can we identify gender using first name?\n",
    "# Can we identify a person’s age based on first name or postition?\n",
    "# How do civil servant salaries trend against Ontario private sector?\n",
    "# Is there Gender Inequality in Ontario’s Sunshine list?\n",
    "# Does gender or age play a factor? Is region a factor?\n",
    "# Are civil servant salaries keeping up with inflation?\n",
    "# How do civil servant salaries trend against Ontario private sector?\n",
    "# Can raises, salary increases be track? Are they in proportion with inflation? who is getting raises?\n",
    "# When creating ranges for salaries which sectors are highest in pay and which are lowest?\n",
    "# Which job titles are paid higher salary/lowest?\n",
    "# When comparing job titles in certain sectors to others are they fairly equivalent or are certain sectors more generous?\n",
    "# Which top-earning positions or person’s have continued to receive generous raises while lower seniority roles may have endured wages freezes and cutbacks?\n",
    "# How many of the top earners are women?"
   ]
  },
  {
   "cell_type": "code",
   "execution_count": 15,
   "id": "8a33159a",
   "metadata": {},
   "outputs": [],
   "source": [
    "# defining the binning buckets and labels\n",
    "size_bins = [100000, 105000, 110000, 130000, 200000, 500000, 1000000, 5000000]\n",
    "group_names = [\"(100,000-104,999)\",\"(105,000-109,999)\",\"(110,000-129,999)\",\"(130,000-199,999)\",\"(200,000-499,999)\",\"(500,000-999,999)\",\"(>1million)\"]"
   ]
  },
  {
   "cell_type": "code",
   "execution_count": 16,
   "id": "1fd944bb",
   "metadata": {},
   "outputs": [],
   "source": [
    "# Creating a column with the bins\n",
    "sunshine_df[\"salary_ranges\"]=pd.cut(sunshine_df[\"salary_paid\"], size_bins, labels=group_names)\n"
   ]
  },
  {
   "cell_type": "code",
   "execution_count": 17,
   "id": "a1dbf86b",
   "metadata": {},
   "outputs": [
    {
     "data": {
      "text/plain": [
       "374826"
      ]
     },
     "execution_count": 17,
     "metadata": {},
     "output_type": "execute_result"
    }
   ],
   "source": [
    "# Creating a df for each bin just to visualize count and positions usually in that bin\n",
    "bin_1_df=sunshine_df.loc[sunshine_df[\"salary_ranges\"] == \"(100,000-104,999)\"]\n",
    "bin_1_df['index'].count()"
   ]
  },
  {
   "cell_type": "code",
   "execution_count": 18,
   "id": "cb37ec83",
   "metadata": {},
   "outputs": [
    {
     "data": {
      "text/plain": [
       "250460"
      ]
     },
     "execution_count": 18,
     "metadata": {},
     "output_type": "execute_result"
    }
   ],
   "source": [
    "bin_2_df=sunshine_df.loc[sunshine_df[\"salary_ranges\"] == \"(105,000-109,999)\"]\n",
    "bin_2_df['index'].count()"
   ]
  },
  {
   "cell_type": "code",
   "execution_count": 19,
   "id": "e3d3ab59",
   "metadata": {},
   "outputs": [
    {
     "data": {
      "text/plain": [
       "565858"
      ]
     },
     "execution_count": 19,
     "metadata": {},
     "output_type": "execute_result"
    }
   ],
   "source": [
    "# Creating a df for each bin just to visualize count and positions usually in that bin\n",
    "bin_3_df=sunshine_df.loc[sunshine_df[\"salary_ranges\"] == \"(110,000-129,999)\"]\n",
    "bin_3_df['index'].count()"
   ]
  },
  {
   "cell_type": "code",
   "execution_count": 20,
   "id": "d7465632",
   "metadata": {},
   "outputs": [
    {
     "data": {
      "text/plain": [
       "399010"
      ]
     },
     "execution_count": 20,
     "metadata": {},
     "output_type": "execute_result"
    }
   ],
   "source": [
    "# Creating a df for each bin just to visualize count and positions usually in that bin\n",
    "bin_4_df=sunshine_df.loc[sunshine_df[\"salary_ranges\"] == \"(130,000-199,999)\"]\n",
    "bin_4_df['index'].count()"
   ]
  },
  {
   "cell_type": "code",
   "execution_count": 21,
   "id": "c3569c60",
   "metadata": {},
   "outputs": [
    {
     "data": {
      "text/plain": [
       "70777"
      ]
     },
     "execution_count": 21,
     "metadata": {},
     "output_type": "execute_result"
    }
   ],
   "source": [
    "# Identify employees who have salaries that are over 1M \n",
    "bin_5_df=sunshine_df.loc[sunshine_df[\"salary_ranges\"] == \"(200,000-499,999)\"]\n",
    "bin_5_df['index'].count()"
   ]
  },
  {
   "cell_type": "code",
   "execution_count": 22,
   "id": "c3bac9c4",
   "metadata": {},
   "outputs": [
    {
     "data": {
      "text/plain": [
       "886"
      ]
     },
     "execution_count": 22,
     "metadata": {},
     "output_type": "execute_result"
    }
   ],
   "source": [
    "bin_6_df=sunshine_df.loc[sunshine_df[\"salary_ranges\"] == \"(500,000-999,999)\"]\n",
    "bin_6_df['index'].count()"
   ]
  },
  {
   "cell_type": "code",
   "execution_count": 23,
   "id": "96aef971",
   "metadata": {},
   "outputs": [
    {
     "data": {
      "text/plain": [
       "50"
      ]
     },
     "execution_count": 23,
     "metadata": {},
     "output_type": "execute_result"
    }
   ],
   "source": [
    "bin_7_df=sunshine_df.loc[sunshine_df[\"salary_ranges\"] == \"(>1million)\"]\n",
    "bin_7_df['index'].count()"
   ]
  },
  {
   "cell_type": "code",
   "execution_count": 24,
   "id": "3f5c550c",
   "metadata": {},
   "outputs": [
    {
     "data": {
      "image/png": "[encoded data removed]",
      "text/plain": [
       "<Figure size 432x288 with 1 Axes>"
      ]
     },
     "metadata": {
      "needs_background": "light"
     },
     "output_type": "display_data"
    }
   ],
   "source": [
    "# Histogram with the bin size as data\n",
    "data = size_bins\n",
    "_, bins, _ = plt.hist(data, 7, density=1, alpha=0.7)\n"
   ]
  },
  {
   "cell_type": "code",
   "execution_count": 25,
   "id": "1515a010",
   "metadata": {},
   "outputs": [
    {
     "data": {
      "image/png": "[encoded data removed]",
      "text/plain": [
       "<Figure size 432x432 with 1 Axes>"
      ]
     },
     "metadata": {},
     "output_type": "display_data"
    }
   ],
   "source": [
    "# Make a bell curve chart with bin size \n",
    "# A custom function to calculate\n",
    "# probability distribution function\n",
    "def pdf(x):\n",
    "    mean = np.mean(x)\n",
    "    std = np.std(x)\n",
    "    y_out = 1/(std * np.sqrt(2 * np.pi)) * np.exp( - (x - mean)**2 / (2 * std**2))\n",
    "    return y_out\n",
    "  \n",
    "# To generate an array of x-values\n",
    "# x = sunshine_df[\"\"]\n",
    "x = size_bins  \n",
    "    \n",
    "# To generate an array of \n",
    "# y-values using corresponding x-values\n",
    "y = pdf(x)\n",
    "  \n",
    "# To fill in values under the bell-curve\n",
    "# x_fill = np.arange(-2, 2, 0.1)\n",
    "# y_fill = pdf(x_fill)\n",
    "  \n",
    "# Plotting the bell-shaped curve\n",
    "plt.style.use('seaborn')\n",
    "plt.figure(figsize = (6, 6))\n",
    "plt.plot(x, y, color = 'black',\n",
    "         linestyle = 'dashed')\n",
    "  \n",
    "plt.scatter(x, y, marker = 'o',\n",
    "            s = 25, color = 'red')\n",
    "  \n",
    "# plt.fill_between(x_fill, y_fill, 0,\n",
    "#                  alpha = 0.2, color = 'blue')\n",
    "plt.show()"
   ]
  },
  {
   "cell_type": "code",
   "execution_count": 26,
   "id": "4d6ae6fb",
   "metadata": {},
   "outputs": [
    {
     "data": {
      "image/png": "[encoded data removed]",
      "text/plain": [
       "<Figure size 576x396 with 1 Axes>"
      ]
     },
     "metadata": {},
     "output_type": "display_data"
    }
   ],
   "source": [
    "plt.hist(size_bins, edgecolor=\"red\", bins=7)\n",
    "plt.show()"
   ]
  },
  {
   "cell_type": "code",
   "execution_count": null,
   "id": "c862f8f0",
   "metadata": {},
   "outputs": [],
   "source": []
  }
 ],
 "metadata": {
  "kernelspec": {
   "display_name": "PythonData",
   "language": "python",
   "name": "pythondata"
  },
  "language_info": {
   "codemirror_mode": {
    "name": "ipython",
    "version": 3
   },
   "file_extension": ".py",
   "mimetype": "text/x-python",
   "name": "python",
   "nbconvert_exporter": "python",
   "pygments_lexer": "ipython3",
   "version": "3.7.10"
  }
 },
 "nbformat": 4,
 "nbformat_minor": 5
}
